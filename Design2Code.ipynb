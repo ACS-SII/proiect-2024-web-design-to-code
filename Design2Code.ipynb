{
 "cells": [
  {
   "cell_type": "code",
   "id": "initial_id",
   "metadata": {
    "collapsed": true,
    "ExecuteTime": {
     "end_time": "2025-01-19T11:28:02.137939Z",
     "start_time": "2025-01-19T11:27:54.263263Z"
    }
   },
   "source": "!pip install transformers datasets pillow torch torchvision",
   "outputs": [
    {
     "name": "stdout",
     "output_type": "stream",
     "text": [
      "Requirement already satisfied: transformers in d:\\users\\munte\\appdata\\local\\programs\\python\\python311\\lib\\site-packages (4.37.2)\n",
      "Requirement already satisfied: datasets in d:\\users\\munte\\appdata\\local\\programs\\python\\python311\\lib\\site-packages (3.2.0)\n",
      "Requirement already satisfied: pillow in d:\\users\\munte\\appdata\\local\\programs\\python\\python311\\lib\\site-packages (10.2.0)\n",
      "Requirement already satisfied: torch in d:\\users\\munte\\appdata\\local\\programs\\python\\python311\\lib\\site-packages (2.2.0)\n",
      "Requirement already satisfied: torchvision in d:\\users\\munte\\appdata\\local\\programs\\python\\python311\\lib\\site-packages (0.17.0)\n",
      "Requirement already satisfied: filelock in d:\\users\\munte\\appdata\\local\\programs\\python\\python311\\lib\\site-packages (from transformers) (3.13.1)\n",
      "Requirement already satisfied: huggingface-hub<1.0,>=0.19.3 in d:\\users\\munte\\appdata\\local\\programs\\python\\python311\\lib\\site-packages (from transformers) (0.27.1)\n",
      "Requirement already satisfied: numpy>=1.17 in d:\\users\\munte\\appdata\\local\\programs\\python\\python311\\lib\\site-packages (from transformers) (1.26.4)\n",
      "Requirement already satisfied: packaging>=20.0 in d:\\users\\munte\\appdata\\local\\programs\\python\\python311\\lib\\site-packages (from transformers) (23.2)\n",
      "Requirement already satisfied: pyyaml>=5.1 in d:\\users\\munte\\appdata\\local\\programs\\python\\python311\\lib\\site-packages (from transformers) (6.0.1)\n",
      "Requirement already satisfied: regex!=2019.12.17 in d:\\users\\munte\\appdata\\local\\programs\\python\\python311\\lib\\site-packages (from transformers) (2023.12.25)\n",
      "Requirement already satisfied: requests in d:\\users\\munte\\appdata\\local\\programs\\python\\python311\\lib\\site-packages (from transformers) (2.32.3)\n",
      "Requirement already satisfied: tokenizers<0.19,>=0.14 in d:\\users\\munte\\appdata\\local\\programs\\python\\python311\\lib\\site-packages (from transformers) (0.15.1)\n",
      "Requirement already satisfied: safetensors>=0.4.1 in d:\\users\\munte\\appdata\\local\\programs\\python\\python311\\lib\\site-packages (from transformers) (0.4.2)\n",
      "Requirement already satisfied: tqdm>=4.27 in d:\\users\\munte\\appdata\\local\\programs\\python\\python311\\lib\\site-packages (from transformers) (4.67.1)\n",
      "Requirement already satisfied: pyarrow>=15.0.0 in d:\\users\\munte\\appdata\\local\\programs\\python\\python311\\lib\\site-packages (from datasets) (19.0.0)\n",
      "Requirement already satisfied: dill<0.3.9,>=0.3.0 in d:\\users\\munte\\appdata\\local\\programs\\python\\python311\\lib\\site-packages (from datasets) (0.3.8)\n",
      "Requirement already satisfied: pandas in d:\\users\\munte\\appdata\\local\\programs\\python\\python311\\lib\\site-packages (from datasets) (2.2.0)\n",
      "Requirement already satisfied: xxhash in d:\\users\\munte\\appdata\\local\\programs\\python\\python311\\lib\\site-packages (from datasets) (3.5.0)\n",
      "Requirement already satisfied: multiprocess<0.70.17 in d:\\users\\munte\\appdata\\local\\programs\\python\\python311\\lib\\site-packages (from datasets) (0.70.16)\n",
      "Requirement already satisfied: fsspec<=2024.9.0,>=2023.1.0 in d:\\users\\munte\\appdata\\local\\programs\\python\\python311\\lib\\site-packages (from fsspec[http]<=2024.9.0,>=2023.1.0->datasets) (2024.2.0)\n",
      "Requirement already satisfied: aiohttp in d:\\users\\munte\\appdata\\local\\programs\\python\\python311\\lib\\site-packages (from datasets) (3.9.3)\n",
      "Requirement already satisfied: typing-extensions>=4.8.0 in d:\\users\\munte\\appdata\\local\\programs\\python\\python311\\lib\\site-packages (from torch) (4.9.0)\n",
      "Requirement already satisfied: sympy in d:\\users\\munte\\appdata\\local\\programs\\python\\python311\\lib\\site-packages (from torch) (1.12)\n",
      "Requirement already satisfied: networkx in d:\\users\\munte\\appdata\\local\\programs\\python\\python311\\lib\\site-packages (from torch) (3.2.1)\n",
      "Requirement already satisfied: jinja2 in d:\\users\\munte\\appdata\\local\\programs\\python\\python311\\lib\\site-packages (from torch) (3.1.3)\n",
      "Requirement already satisfied: aiosignal>=1.1.2 in d:\\users\\munte\\appdata\\local\\programs\\python\\python311\\lib\\site-packages (from aiohttp->datasets) (1.3.1)\n",
      "Requirement already satisfied: attrs>=17.3.0 in d:\\users\\munte\\appdata\\local\\programs\\python\\python311\\lib\\site-packages (from aiohttp->datasets) (23.2.0)\n",
      "Requirement already satisfied: frozenlist>=1.1.1 in d:\\users\\munte\\appdata\\local\\programs\\python\\python311\\lib\\site-packages (from aiohttp->datasets) (1.4.1)\n",
      "Requirement already satisfied: multidict<7.0,>=4.5 in d:\\users\\munte\\appdata\\local\\programs\\python\\python311\\lib\\site-packages (from aiohttp->datasets) (6.0.5)\n",
      "Requirement already satisfied: yarl<2.0,>=1.0 in d:\\users\\munte\\appdata\\local\\programs\\python\\python311\\lib\\site-packages (from aiohttp->datasets) (1.9.4)\n",
      "Requirement already satisfied: charset-normalizer<4,>=2 in d:\\users\\munte\\appdata\\local\\programs\\python\\python311\\lib\\site-packages (from requests->transformers) (3.3.2)\n",
      "Requirement already satisfied: idna<4,>=2.5 in d:\\users\\munte\\appdata\\local\\programs\\python\\python311\\lib\\site-packages (from requests->transformers) (3.6)\n",
      "Requirement already satisfied: urllib3<3,>=1.21.1 in d:\\users\\munte\\appdata\\local\\programs\\python\\python311\\lib\\site-packages (from requests->transformers) (2.2.1)\n",
      "Requirement already satisfied: certifi>=2017.4.17 in d:\\users\\munte\\appdata\\local\\programs\\python\\python311\\lib\\site-packages (from requests->transformers) (2024.2.2)\n",
      "Requirement already satisfied: colorama in d:\\users\\munte\\appdata\\local\\programs\\python\\python311\\lib\\site-packages (from tqdm>=4.27->transformers) (0.4.6)\n",
      "Requirement already satisfied: MarkupSafe>=2.0 in d:\\users\\munte\\appdata\\local\\programs\\python\\python311\\lib\\site-packages (from jinja2->torch) (2.1.5)\n",
      "Requirement already satisfied: python-dateutil>=2.8.2 in d:\\users\\munte\\appdata\\local\\programs\\python\\python311\\lib\\site-packages (from pandas->datasets) (2.8.2)\n",
      "Requirement already satisfied: pytz>=2020.1 in d:\\users\\munte\\appdata\\local\\programs\\python\\python311\\lib\\site-packages (from pandas->datasets) (2024.1)\n",
      "Requirement already satisfied: tzdata>=2022.7 in d:\\users\\munte\\appdata\\local\\programs\\python\\python311\\lib\\site-packages (from pandas->datasets) (2023.4)\n",
      "Requirement already satisfied: mpmath>=0.19 in d:\\users\\munte\\appdata\\local\\programs\\python\\python311\\lib\\site-packages (from sympy->torch) (1.3.0)\n",
      "Requirement already satisfied: six>=1.5 in d:\\users\\munte\\appdata\\local\\programs\\python\\python311\\lib\\site-packages (from python-dateutil>=2.8.2->pandas->datasets) (1.16.0)\n"
     ]
    },
    {
     "name": "stderr",
     "output_type": "stream",
     "text": [
      "\n",
      "[notice] A new release of pip is available: 24.0 -> 24.3.1\n",
      "[notice] To update, run: python.exe -m pip install --upgrade pip\n"
     ]
    }
   ],
   "execution_count": 1
  },
  {
   "metadata": {
    "ExecuteTime": {
     "end_time": "2025-01-19T11:28:52.200190Z",
     "start_time": "2025-01-19T11:28:02.195148Z"
    }
   },
   "cell_type": "code",
   "source": [
    "from transformers import T5Tokenizer, T5ForConditionalGeneration, Seq2SeqTrainer, Seq2SeqTrainingArguments\n",
    "from datasets import load_dataset\n",
    "from torchvision.transforms import Compose, Resize, ToTensor, Normalize\n",
    "from PIL import Image\n",
    "import torch"
   ],
   "id": "299483a579691499",
   "outputs": [
    {
     "name": "stderr",
     "output_type": "stream",
     "text": [
      "D:\\Users\\munte\\AppData\\Local\\Programs\\Python\\Python311\\Lib\\site-packages\\tqdm\\auto.py:21: TqdmWarning: IProgress not found. Please update jupyter and ipywidgets. See https://ipywidgets.readthedocs.io/en/stable/user_install.html\n",
      "  from .autonotebook import tqdm as notebook_tqdm\n"
     ]
    }
   ],
   "execution_count": 2
  },
  {
   "metadata": {},
   "cell_type": "code",
   "source": [
    "import os\n",
    "\n",
    "# Set a new cache directory\n",
    "os.environ[\"HF_HOME\"] = \"cache\"\n"
   ],
   "id": "af1eea07b4bac418",
   "outputs": [],
   "execution_count": 3
  },
  {
   "metadata": {
    "ExecuteTime": {
     "end_time": "2025-01-19T11:28:54.350328Z",
     "start_time": "2025-01-19T11:28:54.345329Z"
    }
   },
   "cell_type": "code",
   "source": "print(os.environ[\"HF_HOME\"])",
   "id": "f45a4af48057d6b7",
   "outputs": [
    {
     "name": "stdout",
     "output_type": "stream",
     "text": [
      "cache\n"
     ]
    }
   ],
   "execution_count": 4
  },
  {
   "metadata": {
    "jupyter": {
     "is_executing": true
    },
    "ExecuteTime": {
     "start_time": "2025-01-19T14:21:28.461824Z"
    }
   },
   "cell_type": "code",
   "source": [
    "from datasets import disable_caching\n",
    "\n",
    "disable_caching()\n",
    "\n",
    "# Define image transformations\n",
    "image_transform = Compose([\n",
    "    Resize((256, 256)),  # Resize image to 256x256\n",
    "    ToTensor(),          # Convert image to tensor\n",
    "    Normalize([0.5, 0.5, 0.5], [0.5, 0.5, 0.5])  # Normalize to [-1, 1]\n",
    "])\n",
    "\n",
    "# Function to process the image and ensure it has 3 channels (RGB)\n",
    "def process_image(image):\n",
    "    if image.mode != 'RGB':\n",
    "        image = image.convert('RGB')\n",
    "    return image_transform(image)\n",
    "\n",
    "# Preprocess function to handle image and text input\n",
    "def preprocess_function(examples):\n",
    "    \"\"\"\n",
    "    Preprocess function to handle image and text input.\n",
    "    The `image` is processed into tensors, and the `html_css` is tokenized.\n",
    "\n",
    "    Args:\n",
    "        examples (dict): Contains `image` and `html_css`.\n",
    "\n",
    "    Returns:\n",
    "        dict: Processed image tensors and tokenized labels.\n",
    "    \"\"\"\n",
    "    # Process image\n",
    "    image = examples[\"image\"]  # Image column\n",
    "    image_tensor = process_image(image)\n",
    "\n",
    "    # Tokenize the HTML/CSS text\n",
    "    targets = examples[\"text\"]\n",
    "    labels = tokenizer(targets, max_length=512, truncation=True, padding=\"max_length\")\n",
    "\n",
    "    return {\"image_tensor\": image_tensor, \"labels\": labels[\"input_ids\"]}\n",
    "\n",
    "# Load your dataset using streaming (replace with the actual dataset name or path)\n",
    "raw_dataset = load_dataset(\"HuggingFaceM4/WebSight\", \"v0.1\", split=\"train\", cache_dir=\"D:/Facultate/SII/Design2Code/cache\")\n",
    "\n",
    "# Convert to iterable dataset for streaming\n",
    "iterable_dataset = raw_dataset.to_iterable_dataset()\n",
    "\n",
    "# Tokenizer for T5 model\n",
    "tokenizer = T5Tokenizer.from_pretrained(\"t5-small\")\n",
    "\n",
    "# Process data and save intermediate results to disk to avoid memory overload\n",
    "def process_and_save_data(dataset, max_rows=1000, output_file=\"processed_data.json\"):\n",
    "    \"\"\"\n",
    "    Process data row by row and save the output to disk to avoid memory overload.\n",
    "    \"\"\"\n",
    "    processed_data = []\n",
    "    for i, row in enumerate(dataset):\n",
    "        if i >= max_rows:\n",
    "            break\n",
    "        # Preprocess the row\n",
    "        processed_row = preprocess_function(row)\n",
    "        processed_data.append(processed_row)\n",
    "\n",
    "        # Save intermediate result to disk\n",
    "        with open(output_file, \"a\") as f:\n",
    "            json.dump(processed_row, f)\n",
    "            f.write(\"\\n\")  # Write each entry on a new line to separate the entries\n",
    "\n",
    "        # Optionally clean up memory after each batch to prevent memory overload\n",
    "        if (i + 1) % 100 == 0:  # Save and clear every 100 rows\n",
    "            del processed_data  # Delete processed data to free memory\n",
    "            gc.collect()  # Explicitly call garbage collection\n",
    "\n",
    "    return processed_data  # Return processed data (optional if you need it in memory)\n",
    "\n",
    "# Process the dataset in batches and save results to disk\n",
    "processed_data = process_and_save_data(iterable_dataset, max_rows=1000, output_file=\"processed_data.json\")\n",
    "\n",
    "# Split dataset manually into training and validation\n",
    "data_split = int(0.9 * len(processed_data))\n",
    "train_dataset = processed_data[:data_split]\n",
    "eval_dataset = processed_data[data_split:]\n",
    "\n",
    "# Example of how you might further process or train your model\n",
    "# (this is just a placeholder and assumes you're using a deep learning framework)\n",
    "# train_model(train_dataset)"
   ],
   "id": "493b3e73d9e7d2ae",
   "outputs": [
    {
     "name": "stderr",
     "output_type": "stream",
     "text": [
      "Downloading data:   0%|          | 0/71 [00:00<?, ?files/s]\n"
     ]
    }
   ],
   "execution_count": null
  },
  {
   "metadata": {},
   "cell_type": "code",
   "outputs": [],
   "execution_count": null,
   "source": "",
   "id": "b81154e3f04f0a38"
  }
 ],
 "metadata": {
  "kernelspec": {
   "display_name": "Python 3",
   "language": "python",
   "name": "python3"
  },
  "language_info": {
   "codemirror_mode": {
    "name": "ipython",
    "version": 2
   },
   "file_extension": ".py",
   "mimetype": "text/x-python",
   "name": "python",
   "nbconvert_exporter": "python",
   "pygments_lexer": "ipython2",
   "version": "2.7.6"
  }
 },
 "nbformat": 4,
 "nbformat_minor": 5
}
